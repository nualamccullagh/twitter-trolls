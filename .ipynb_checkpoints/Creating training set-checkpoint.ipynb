{
 "cells": [
  {
   "cell_type": "code",
   "execution_count": 179,
   "metadata": {
    "collapsed": false
   },
   "outputs": [],
   "source": [
    "import numpy as N\n",
    "import pandas as pd\n",
    "import json\n",
    "import matplotlib.pyplot as plt\n",
    "from IPython.display import clear_output\n",
    "plt.style.use('nuala')"
   ]
  },
  {
   "cell_type": "code",
   "execution_count": 256,
   "metadata": {
    "collapsed": false
   },
   "outputs": [],
   "source": [
    "filename='data/stream__thelindywest___Lesdoggg___KimKardashian.json'"
   ]
  },
  {
   "cell_type": "code",
   "execution_count": 257,
   "metadata": {
    "collapsed": false
   },
   "outputs": [],
   "source": [
    "\n",
    "tweets_data = []\n",
    "tweets_file = open(filename, \"r\")\n",
    "for line in tweets_file:\n",
    "    try:\n",
    "        tweet = json.loads(line)\n",
    "        tweets_data.append(tweet)\n",
    "    except:\n",
    "        continue"
   ]
  },
  {
   "cell_type": "code",
   "execution_count": 258,
   "metadata": {
    "collapsed": false
   },
   "outputs": [
    {
     "data": {
      "text/plain": [
       "[{u'id': 3339467173,\n",
       "  u'id_str': u'3339467173',\n",
       "  u'indices': [3, 19],\n",
       "  u'name': u'KimDaFatPigWhaleHo80',\n",
       "  u'screen_name': u'PigDickSucker80'},\n",
       " {u'id': 25365536,\n",
       "  u'id_str': u'25365536',\n",
       "  u'indices': [21, 35],\n",
       "  u'name': u'Kim Kardashian West',\n",
       "  u'screen_name': u'KimKardashian'},\n",
       " {u'id': 30482336,\n",
       "  u'id_str': u'30482336',\n",
       "  u'indices': [57, 71],\n",
       "  u'name': u'Goatwhore',\n",
       "  u'screen_name': u'GoatwhoreNOLA'},\n",
       " {u'id': 3024596660,\n",
       "  u'id_str': u'3024596660',\n",
       "  u'indices': [95, 108],\n",
       "  u'name': u'Limitless',\n",
       "  u'screen_name': u'LimitlessCBS'}]"
      ]
     },
     "execution_count": 258,
     "metadata": {},
     "output_type": "execute_result"
    }
   ],
   "source": [
    "tweets_data[33]['entities']['user_mentions']"
   ]
  },
  {
   "cell_type": "code",
   "execution_count": 260,
   "metadata": {
    "collapsed": false
   },
   "outputs": [
    {
     "data": {
      "text/plain": [
       "{u'contributors': None,\n",
       " u'coordinates': None,\n",
       " u'created_at': u'Wed Oct 05 23:14:59 +0000 2016',\n",
       " u'entities': {u'hashtags': [],\n",
       "  u'symbols': [],\n",
       "  u'urls': [],\n",
       "  u'user_mentions': [{u'id': 215952307,\n",
       "    u'id_str': u'215952307',\n",
       "    u'indices': [3, 12],\n",
       "    u'name': u'James Corden',\n",
       "    u'screen_name': u'JKCorden'},\n",
       "   {u'id': 25365536,\n",
       "    u'id_str': u'25365536',\n",
       "    u'indices': [40, 54],\n",
       "    u'name': u'Kim Kardashian West',\n",
       "    u'screen_name': u'KimKardashian'}]},\n",
       " u'favorite_count': 0,\n",
       " u'favorited': False,\n",
       " u'filter_level': u'low',\n",
       " u'geo': None,\n",
       " u'id': 783807726799421441,\n",
       " u'id_str': u'783807726799421441',\n",
       " u'in_reply_to_screen_name': None,\n",
       " u'in_reply_to_status_id': None,\n",
       " u'in_reply_to_status_id_str': None,\n",
       " u'in_reply_to_user_id': None,\n",
       " u'in_reply_to_user_id_str': None,\n",
       " u'is_quote_status': False,\n",
       " u'lang': u'en',\n",
       " u'place': None,\n",
       " u'retweet_count': 0,\n",
       " u'retweeted': False,\n",
       " u'retweeted_status': {u'contributors': None,\n",
       "  u'coordinates': None,\n",
       "  u'created_at': u'Mon Oct 03 04:26:10 +0000 2016',\n",
       "  u'entities': {u'hashtags': [],\n",
       "   u'symbols': [],\n",
       "   u'urls': [],\n",
       "   u'user_mentions': [{u'id': 25365536,\n",
       "     u'id_str': u'25365536',\n",
       "     u'indices': [26, 40],\n",
       "     u'name': u'Kim Kardashian West',\n",
       "     u'screen_name': u'KimKardashian'}]},\n",
       "  u'favorite_count': 151140,\n",
       "  u'favorited': False,\n",
       "  u'filter_level': u'low',\n",
       "  u'geo': None,\n",
       "  u'id': 782798877720186880,\n",
       "  u'id_str': u'782798877720186880',\n",
       "  u'in_reply_to_screen_name': None,\n",
       "  u'in_reply_to_status_id': None,\n",
       "  u'in_reply_to_status_id_str': None,\n",
       "  u'in_reply_to_user_id': None,\n",
       "  u'in_reply_to_user_id_str': None,\n",
       "  u'is_quote_status': False,\n",
       "  u'lang': u'en',\n",
       "  u'place': None,\n",
       "  u'retweet_count': 60678,\n",
       "  u'retweeted': False,\n",
       "  u'source': u'<a href=\"http://twitter.com/download/iphone\" rel=\"nofollow\">Twitter for iPhone</a>',\n",
       "  u'text': u\"People making jokes about @KimKardashian tonight would do well to remember that she's a mother,a daughter,a wife,a friend.Be nice or shut up\",\n",
       "  u'truncated': False,\n",
       "  u'user': {u'contributors_enabled': False,\n",
       "   u'created_at': u'Mon Nov 15 11:40:04 +0000 2010',\n",
       "   u'default_profile': False,\n",
       "   u'default_profile_image': False,\n",
       "   u'description': u\"Dancer. Ballet, Tap and Modern. I dont read DM's!\",\n",
       "   u'favourites_count': 46,\n",
       "   u'follow_request_sent': None,\n",
       "   u'followers_count': 7713682,\n",
       "   u'following': None,\n",
       "   u'friends_count': 1889,\n",
       "   u'geo_enabled': False,\n",
       "   u'id': 215952307,\n",
       "   u'id_str': u'215952307',\n",
       "   u'is_translator': False,\n",
       "   u'lang': u'en',\n",
       "   u'listed_count': 7277,\n",
       "   u'location': u'Los Angeles, CA',\n",
       "   u'name': u'James Corden',\n",
       "   u'notifications': None,\n",
       "   u'profile_background_color': u'C6E2EE',\n",
       "   u'profile_background_image_url': u'http://abs.twimg.com/images/themes/theme2/bg.gif',\n",
       "   u'profile_background_image_url_https': u'https://abs.twimg.com/images/themes/theme2/bg.gif',\n",
       "   u'profile_background_tile': False,\n",
       "   u'profile_banner_url': u'https://pbs.twimg.com/profile_banners/215952307/1475505648',\n",
       "   u'profile_image_url': u'http://pbs.twimg.com/profile_images/672062966422835200/r6G8jOcH_normal.jpg',\n",
       "   u'profile_image_url_https': u'https://pbs.twimg.com/profile_images/672062966422835200/r6G8jOcH_normal.jpg',\n",
       "   u'profile_link_color': u'1F98C7',\n",
       "   u'profile_sidebar_border_color': u'C6E2EE',\n",
       "   u'profile_sidebar_fill_color': u'DAECF4',\n",
       "   u'profile_text_color': u'663B12',\n",
       "   u'profile_use_background_image': True,\n",
       "   u'protected': False,\n",
       "   u'screen_name': u'JKCorden',\n",
       "   u'statuses_count': 9181,\n",
       "   u'time_zone': None,\n",
       "   u'url': None,\n",
       "   u'utc_offset': None,\n",
       "   u'verified': True}},\n",
       " u'source': u'<a href=\"http://twitter.com/download/iphone\" rel=\"nofollow\">Twitter for iPhone</a>',\n",
       " u'text': u\"RT @JKCorden: People making jokes about @KimKardashian tonight would do well to remember that she's a mother,a daughter,a wife,a friend.Be\\u2026\",\n",
       " u'timestamp_ms': u'1475709299169',\n",
       " u'truncated': False,\n",
       " u'user': {u'contributors_enabled': False,\n",
       "  u'created_at': u'Wed Feb 24 20:13:16 +0000 2010',\n",
       "  u'default_profile': False,\n",
       "  u'default_profile_image': False,\n",
       "  u'description': u'\\u2661 23/4/13 best day of my life met Justin thanks to make a wish \\u2661 Justin followed me back 1/5/16 \\u2661Seventeen \\u2661 belieber',\n",
       "  u'favourites_count': 15465,\n",
       "  u'follow_request_sent': None,\n",
       "  u'followers_count': 1564,\n",
       "  u'following': None,\n",
       "  u'friends_count': 3287,\n",
       "  u'geo_enabled': True,\n",
       "  u'id': 117182316,\n",
       "  u'id_str': u'117182316',\n",
       "  u'is_translator': False,\n",
       "  u'lang': u'en',\n",
       "  u'listed_count': 10,\n",
       "  u'location': u'North West, England',\n",
       "  u'name': u'Laura',\n",
       "  u'notifications': None,\n",
       "  u'profile_background_color': u'F0F0F0',\n",
       "  u'profile_background_image_url': u'http://pbs.twimg.com/profile_background_images/627558213337128960/snURwpO0.png',\n",
       "  u'profile_background_image_url_https': u'https://pbs.twimg.com/profile_background_images/627558213337128960/snURwpO0.png',\n",
       "  u'profile_background_tile': True,\n",
       "  u'profile_banner_url': u'https://pbs.twimg.com/profile_banners/117182316/1474550789',\n",
       "  u'profile_image_url': u'http://pbs.twimg.com/profile_images/780436077811294208/FfOR0i1z_normal.jpg',\n",
       "  u'profile_image_url_https': u'https://pbs.twimg.com/profile_images/780436077811294208/FfOR0i1z_normal.jpg',\n",
       "  u'profile_link_color': u'981CEB',\n",
       "  u'profile_sidebar_border_color': u'FFFFFF',\n",
       "  u'profile_sidebar_fill_color': u'D8D8D8',\n",
       "  u'profile_text_color': u'180018',\n",
       "  u'profile_use_background_image': True,\n",
       "  u'protected': False,\n",
       "  u'screen_name': u'LauraGibsonxxx',\n",
       "  u'statuses_count': 31720,\n",
       "  u'time_zone': u'Amsterdam',\n",
       "  u'url': None,\n",
       "  u'utc_offset': 7200,\n",
       "  u'verified': False}}"
      ]
     },
     "execution_count": 260,
     "metadata": {},
     "output_type": "execute_result"
    }
   ],
   "source": [
    "tweets_data[0]"
   ]
  },
  {
   "cell_type": "code",
   "execution_count": 143,
   "metadata": {
    "collapsed": false
   },
   "outputs": [],
   "source": [
    "tweets = pd.DataFrame()\n",
    "tweets['text'] = map(lambda tweet: tweet['text'], tweets_data)\n",
    "tweets['retweeted'] = map(lambda tweet: tweet['retweeted'], tweets_data)\n",
    "tweets['username'] = map(lambda tweet: tweet['user']['screen_name'], tweets_data)\n",
    "tweets['verified'] = map(lambda tweet: tweet['user']['verified'], tweets_data)\n",
    "tweets['hashtags'] = map(lambda tweet: tweet['entities']['hashtags'], tweets_data)\n",
    "tweets['user_mentions'] = map(lambda tweet: [tweet['entities']['user_mentions'][i]['screen_name'] for i in N.arange(len(tweet['entities']['user_mentions']))], tweets_data)\n",
    "\n",
    "tweets['favorited'] = map(lambda tweet: tweet['favorited'], tweets_data)\n",
    "tweets['timestamp'] = map(lambda tweet: tweet['created_at'], tweets_data)\n",
    "tweets['source'] = map(lambda tweet: tweet['source'], tweets_data)"
   ]
  },
  {
   "cell_type": "code",
   "execution_count": 144,
   "metadata": {
    "collapsed": false
   },
   "outputs": [],
   "source": [
    "tweets['text']=tweets['text'].str.lower()\n",
    "tweets['text'] = tweets['text'].str.replace('https?:.*', '')\n",
    "tweets['text'] = tweets['text'].str.strip()\n"
   ]
  },
  {
   "cell_type": "code",
   "execution_count": 145,
   "metadata": {
    "collapsed": false
   },
   "outputs": [
    {
     "data": {
      "text/plain": [
       "1523"
      ]
     },
     "execution_count": 145,
     "metadata": {},
     "output_type": "execute_result"
    }
   ],
   "source": [
    "len(tweets_data)"
   ]
  },
  {
   "cell_type": "code",
   "execution_count": 146,
   "metadata": {
    "collapsed": false
   },
   "outputs": [],
   "source": [
    "negative_words = N.loadtxt('data/opinion-lexicon-English/negative-words.txt', dtype=str, comments=';').tolist()\n",
    "positive_words = N.loadtxt('data/opinion-lexicon-English/positive-words.txt', dtype=str, comments=';').tolist()\n",
    "curse_words1 = N.loadtxt('data/opinion-lexicon-English/curse-words.txt', dtype=str, delimiter='\\n').tolist()\n",
    "curse_words2 = N.loadtxt('data/opinion-lexicon-English/swearWords.txt', dtype=str, delimiter='\\n').tolist()"
   ]
  },
  {
   "cell_type": "code",
   "execution_count": 147,
   "metadata": {
    "collapsed": false
   },
   "outputs": [
    {
     "name": "stdout",
     "output_type": "stream",
     "text": [
      "number of tweets containing the word bitch: 63\n",
      "number of tweets containing the word whore: 14\n",
      "number of tweets containing the word cunt: 1\n",
      "number of tweets containing the word fuck: 50\n",
      "number of tweets containing the word slut: 5\n",
      "number of tweets containing the word asshole: 7\n",
      "number of tweets containing the word nigger: 6\n"
     ]
    }
   ],
   "source": [
    "bad_words = ['bitch', 'whore', 'cunt', 'fuck', 'slut', 'asshole', 'nigger']\n",
    "\n",
    "for pattern in bad_words:\n",
    "    print 'number of tweets containing the word %s:'%pattern, N.sum(tweets['text'].str.contains(pattern))"
   ]
  },
  {
   "cell_type": "code",
   "execution_count": 148,
   "metadata": {
    "collapsed": false
   },
   "outputs": [
    {
     "data": {
      "text/plain": [
       "122"
      ]
     },
     "execution_count": 148,
     "metadata": {},
     "output_type": "execute_result"
    }
   ],
   "source": [
    "pattern = 'bitch|whore|cunt|fuck|slut|asshole|nigger'\n",
    "N.sum(tweets['text'].str.contains(pattern))"
   ]
  },
  {
   "cell_type": "code",
   "execution_count": 261,
   "metadata": {
    "collapsed": false
   },
   "outputs": [],
   "source": [
    "#one option is to make a list of bad users and label all of their tweets as trolling\n",
    "bad_users = N.unique(tweets['username'][tweets['text'].str.contains('nigger|cunt')])"
   ]
  },
  {
   "cell_type": "code",
   "execution_count": 262,
   "metadata": {
    "collapsed": false
   },
   "outputs": [
    {
     "data": {
      "text/plain": [
       "array([u'DashtoKrap', u'GameChanger6371', u'InfamousSOB247',\n",
       "       u'KIMisisSTUPID'], dtype=object)"
      ]
     },
     "execution_count": 262,
     "metadata": {},
     "output_type": "execute_result"
    }
   ],
   "source": [
    "bad_users"
   ]
  },
  {
   "cell_type": "code",
   "execution_count": 150,
   "metadata": {
    "collapsed": false
   },
   "outputs": [
    {
     "data": {
      "text/plain": [
       "u'@kimkardashian is too stupid to learn her lesson from robbery - watch her turn it to an episode of kuwtk -'"
      ]
     },
     "execution_count": 150,
     "metadata": {},
     "output_type": "execute_result"
    }
   ],
   "source": [
    "#is this one a troll?\n",
    "tweets['text'][19]"
   ]
  },
  {
   "cell_type": "code",
   "execution_count": 151,
   "metadata": {
    "collapsed": true
   },
   "outputs": [],
   "source": [
    "tweets['is_troll'] = False"
   ]
  },
  {
   "cell_type": "code",
   "execution_count": 152,
   "metadata": {
    "collapsed": false
   },
   "outputs": [
    {
     "name": "stderr",
     "output_type": "stream",
     "text": [
      "/anaconda/lib/python2.7/site-packages/ipykernel/__main__.py:3: SettingWithCopyWarning: \n",
      "A value is trying to be set on a copy of a slice from a DataFrame\n",
      "\n",
      "See the caveats in the documentation: http://pandas.pydata.org/pandas-docs/stable/indexing.html#indexing-view-versus-copy\n",
      "  app.launch_new_instance()\n"
     ]
    }
   ],
   "source": [
    "# Mark these users' tweets as trolling\n",
    "for user in bad_users:\n",
    "    tweets['is_troll'][tweets['username']==user] = True\n",
    "    #tweets['is_troll'][map(lambda x: N.any(N.array(x) == user), N.array(tweets['user_mentions']))] = True\n",
    "    \n",
    "    "
   ]
  },
  {
   "cell_type": "code",
   "execution_count": 153,
   "metadata": {
    "collapsed": false
   },
   "outputs": [
    {
     "data": {
      "text/plain": [
       "254"
      ]
     },
     "execution_count": 153,
     "metadata": {},
     "output_type": "execute_result"
    }
   ],
   "source": [
    "N.sum(tweets['is_troll']==True)"
   ]
  },
  {
   "cell_type": "code",
   "execution_count": 185,
   "metadata": {
    "collapsed": false
   },
   "outputs": [],
   "source": [
    "# go through any tweets containing swear words\n",
    "cwstring = '|'.join(curse_words2)\n",
    "\n",
    "#df = tweets['text'][tweets['is_troll'] == False]\n",
    "possible_trolls = tweets['text'].str.contains(cwstring)\n",
    "possible_trolls[tweets['is_troll']==True]=False\n",
    "# there are a bunch of tweets with the word petition which are being classified as trolling because it contains \"tit\"\n",
    "possible_trolls[tweets['text'].str.contains('petition')] = False\n"
   ]
  },
  {
   "cell_type": "code",
   "execution_count": 245,
   "metadata": {
    "collapsed": false
   },
   "outputs": [
    {
     "name": "stdout",
     "output_type": "stream",
     "text": [
      "106\n",
      "1523\n",
      "1523\n"
     ]
    }
   ],
   "source": [
    "# this is how many tweets we have to go through manually\n",
    "print N.sum(possible_trolls)\n",
    "print len(possible_trolls)\n",
    "print len(tweets['text'])"
   ]
  },
  {
   "cell_type": "code",
   "execution_count": 250,
   "metadata": {
    "collapsed": false
   },
   "outputs": [],
   "source": [
    "\n",
    "for i in N.arange(len(tweets['text'])):\n",
    "    if (possible_trolls[i] == False):\n",
    "        continue\n",
    "    print tweets['text'][i]\n",
    "    s = input('troll? [0/1]')\n",
    "    if (N.int(s)==0):\n",
    "        possible_trolls[i] = False\n",
    "    clear_output()\n",
    "    \n",
    "    \n",
    "\n"
   ]
  },
  {
   "cell_type": "code",
   "execution_count": 251,
   "metadata": {
    "collapsed": false
   },
   "outputs": [
    {
     "data": {
      "text/plain": [
       "19"
      ]
     },
     "execution_count": 251,
     "metadata": {},
     "output_type": "execute_result"
    }
   ],
   "source": [
    "N.sum(possible_trolls==True)"
   ]
  },
  {
   "cell_type": "code",
   "execution_count": 252,
   "metadata": {
    "collapsed": false
   },
   "outputs": [
    {
     "name": "stderr",
     "output_type": "stream",
     "text": [
      "/anaconda/lib/python2.7/site-packages/ipykernel/__main__.py:1: SettingWithCopyWarning: \n",
      "A value is trying to be set on a copy of a slice from a DataFrame\n",
      "\n",
      "See the caveats in the documentation: http://pandas.pydata.org/pandas-docs/stable/indexing.html#indexing-view-versus-copy\n",
      "  if __name__ == '__main__':\n"
     ]
    }
   ],
   "source": [
    "tweets['is_troll'][possible_trolls==True]=True"
   ]
  },
  {
   "cell_type": "code",
   "execution_count": 254,
   "metadata": {
    "collapsed": false
   },
   "outputs": [
    {
     "name": "stdout",
     "output_type": "stream",
     "text": [
      "0       False\n",
      "1       False\n",
      "2       False\n",
      "3       False\n",
      "4       False\n",
      "5       False\n",
      "6       False\n",
      "7       False\n",
      "8       False\n",
      "9       False\n",
      "10      False\n",
      "11      False\n",
      "12      False\n",
      "13      False\n",
      "14      False\n",
      "15      False\n",
      "16      False\n",
      "17      False\n",
      "18      False\n",
      "19      False\n",
      "20      False\n",
      "21      False\n",
      "22      False\n",
      "23      False\n",
      "24      False\n",
      "25      False\n",
      "26       True\n",
      "27       True\n",
      "28      False\n",
      "29       True\n",
      "        ...  \n",
      "1493    False\n",
      "1494    False\n",
      "1495    False\n",
      "1496    False\n",
      "1497    False\n",
      "1498    False\n",
      "1499    False\n",
      "1500    False\n",
      "1501    False\n",
      "1502    False\n",
      "1503    False\n",
      "1504    False\n",
      "1505    False\n",
      "1506    False\n",
      "1507    False\n",
      "1508    False\n",
      "1509    False\n",
      "1510    False\n",
      "1511    False\n",
      "1512    False\n",
      "1513    False\n",
      "1514    False\n",
      "1515    False\n",
      "1516    False\n",
      "1517    False\n",
      "1518    False\n",
      "1519    False\n",
      "1520    False\n",
      "1521    False\n",
      "1522    False\n",
      "Name: is_troll, dtype: bool\n"
     ]
    }
   ],
   "source": [
    "print tweets['is_troll']"
   ]
  },
  {
   "cell_type": "code",
   "execution_count": 255,
   "metadata": {
    "collapsed": true
   },
   "outputs": [],
   "source": [
    "N.save('/Users/nuala/Documents/Research/Code/repos/twitter-trolls/data/training_set_classification', tweets['is_troll'])"
   ]
  },
  {
   "cell_type": "code",
   "execution_count": null,
   "metadata": {
    "collapsed": true
   },
   "outputs": [],
   "source": []
  }
 ],
 "metadata": {
  "kernelspec": {
   "display_name": "Python 2",
   "language": "python",
   "name": "python2"
  },
  "language_info": {
   "codemirror_mode": {
    "name": "ipython",
    "version": 2
   },
   "file_extension": ".py",
   "mimetype": "text/x-python",
   "name": "python",
   "nbconvert_exporter": "python",
   "pygments_lexer": "ipython2",
   "version": "2.7.12"
  }
 },
 "nbformat": 4,
 "nbformat_minor": 0
}
