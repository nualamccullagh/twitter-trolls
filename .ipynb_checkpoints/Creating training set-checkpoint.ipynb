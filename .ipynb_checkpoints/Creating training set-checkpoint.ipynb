{
 "cells": [
  {
   "cell_type": "code",
   "execution_count": 1,
   "metadata": {
    "collapsed": false
   },
   "outputs": [
    {
     "name": "stderr",
     "output_type": "stream",
     "text": [
      "//anaconda/lib/python2.7/site-packages/matplotlib/font_manager.py:273: UserWarning: Matplotlib is building the font cache using fc-list. This may take a moment.\n",
      "  warnings.warn('Matplotlib is building the font cache using fc-list. This may take a moment.')\n"
     ]
    }
   ],
   "source": [
    "import numpy as N\n",
    "import pandas as pd\n",
    "import json\n",
    "import matplotlib.pyplot as plt\n",
    "from IPython.display import clear_output\n",
    "plt.style.use('nuala')"
   ]
  },
  {
   "cell_type": "code",
   "execution_count": 2,
   "metadata": {
    "collapsed": false
   },
   "outputs": [],
   "source": [
    "filename='data/stream__thelindywest___Lesdoggg___KimKardashian.json'"
   ]
  },
  {
   "cell_type": "code",
   "execution_count": 4,
   "metadata": {
    "collapsed": false
   },
   "outputs": [],
   "source": [
    "# Read in json file\n",
    "tweets_data = []\n",
    "tweets_file = open(filename, \"r\")\n",
    "for line in tweets_file:\n",
    "    try:\n",
    "        tweet = json.loads(line)\n",
    "        tweets_data.append(tweet)\n",
    "    except:\n",
    "        continue"
   ]
  },
  {
   "cell_type": "code",
   "execution_count": 7,
   "metadata": {
    "collapsed": false
   },
   "outputs": [
    {
     "name": "stdout",
     "output_type": "stream",
     "text": [
      "total number of tweets in dataset: 1523\n"
     ]
    }
   ],
   "source": [
    "print 'total number of tweets in dataset:', len(tweets_data)"
   ]
  },
  {
   "cell_type": "code",
   "execution_count": 12,
   "metadata": {
    "collapsed": false
   },
   "outputs": [
    {
     "name": "stdout",
     "output_type": "stream",
     "text": [
      "here is info from the first tweet:\n"
     ]
    },
    {
     "data": {
      "text/plain": [
       "{u'contributors': None,\n",
       " u'coordinates': None,\n",
       " u'created_at': u'Wed Oct 05 23:14:59 +0000 2016',\n",
       " u'entities': {u'hashtags': [],\n",
       "  u'symbols': [],\n",
       "  u'urls': [],\n",
       "  u'user_mentions': [{u'id': 215952307,\n",
       "    u'id_str': u'215952307',\n",
       "    u'indices': [3, 12],\n",
       "    u'name': u'James Corden',\n",
       "    u'screen_name': u'JKCorden'},\n",
       "   {u'id': 25365536,\n",
       "    u'id_str': u'25365536',\n",
       "    u'indices': [40, 54],\n",
       "    u'name': u'Kim Kardashian West',\n",
       "    u'screen_name': u'KimKardashian'}]},\n",
       " u'favorite_count': 0,\n",
       " u'favorited': False,\n",
       " u'filter_level': u'low',\n",
       " u'geo': None,\n",
       " u'id': 783807726799421441,\n",
       " u'id_str': u'783807726799421441',\n",
       " u'in_reply_to_screen_name': None,\n",
       " u'in_reply_to_status_id': None,\n",
       " u'in_reply_to_status_id_str': None,\n",
       " u'in_reply_to_user_id': None,\n",
       " u'in_reply_to_user_id_str': None,\n",
       " u'is_quote_status': False,\n",
       " u'lang': u'en',\n",
       " u'place': None,\n",
       " u'retweet_count': 0,\n",
       " u'retweeted': False,\n",
       " u'retweeted_status': {u'contributors': None,\n",
       "  u'coordinates': None,\n",
       "  u'created_at': u'Mon Oct 03 04:26:10 +0000 2016',\n",
       "  u'entities': {u'hashtags': [],\n",
       "   u'symbols': [],\n",
       "   u'urls': [],\n",
       "   u'user_mentions': [{u'id': 25365536,\n",
       "     u'id_str': u'25365536',\n",
       "     u'indices': [26, 40],\n",
       "     u'name': u'Kim Kardashian West',\n",
       "     u'screen_name': u'KimKardashian'}]},\n",
       "  u'favorite_count': 151140,\n",
       "  u'favorited': False,\n",
       "  u'filter_level': u'low',\n",
       "  u'geo': None,\n",
       "  u'id': 782798877720186880,\n",
       "  u'id_str': u'782798877720186880',\n",
       "  u'in_reply_to_screen_name': None,\n",
       "  u'in_reply_to_status_id': None,\n",
       "  u'in_reply_to_status_id_str': None,\n",
       "  u'in_reply_to_user_id': None,\n",
       "  u'in_reply_to_user_id_str': None,\n",
       "  u'is_quote_status': False,\n",
       "  u'lang': u'en',\n",
       "  u'place': None,\n",
       "  u'retweet_count': 60678,\n",
       "  u'retweeted': False,\n",
       "  u'source': u'<a href=\"http://twitter.com/download/iphone\" rel=\"nofollow\">Twitter for iPhone</a>',\n",
       "  u'text': u\"People making jokes about @KimKardashian tonight would do well to remember that she's a mother,a daughter,a wife,a friend.Be nice or shut up\",\n",
       "  u'truncated': False,\n",
       "  u'user': {u'contributors_enabled': False,\n",
       "   u'created_at': u'Mon Nov 15 11:40:04 +0000 2010',\n",
       "   u'default_profile': False,\n",
       "   u'default_profile_image': False,\n",
       "   u'description': u\"Dancer. Ballet, Tap and Modern. I dont read DM's!\",\n",
       "   u'favourites_count': 46,\n",
       "   u'follow_request_sent': None,\n",
       "   u'followers_count': 7713682,\n",
       "   u'following': None,\n",
       "   u'friends_count': 1889,\n",
       "   u'geo_enabled': False,\n",
       "   u'id': 215952307,\n",
       "   u'id_str': u'215952307',\n",
       "   u'is_translator': False,\n",
       "   u'lang': u'en',\n",
       "   u'listed_count': 7277,\n",
       "   u'location': u'Los Angeles, CA',\n",
       "   u'name': u'James Corden',\n",
       "   u'notifications': None,\n",
       "   u'profile_background_color': u'C6E2EE',\n",
       "   u'profile_background_image_url': u'http://abs.twimg.com/images/themes/theme2/bg.gif',\n",
       "   u'profile_background_image_url_https': u'https://abs.twimg.com/images/themes/theme2/bg.gif',\n",
       "   u'profile_background_tile': False,\n",
       "   u'profile_banner_url': u'https://pbs.twimg.com/profile_banners/215952307/1475505648',\n",
       "   u'profile_image_url': u'http://pbs.twimg.com/profile_images/672062966422835200/r6G8jOcH_normal.jpg',\n",
       "   u'profile_image_url_https': u'https://pbs.twimg.com/profile_images/672062966422835200/r6G8jOcH_normal.jpg',\n",
       "   u'profile_link_color': u'1F98C7',\n",
       "   u'profile_sidebar_border_color': u'C6E2EE',\n",
       "   u'profile_sidebar_fill_color': u'DAECF4',\n",
       "   u'profile_text_color': u'663B12',\n",
       "   u'profile_use_background_image': True,\n",
       "   u'protected': False,\n",
       "   u'screen_name': u'JKCorden',\n",
       "   u'statuses_count': 9181,\n",
       "   u'time_zone': None,\n",
       "   u'url': None,\n",
       "   u'utc_offset': None,\n",
       "   u'verified': True}},\n",
       " u'source': u'<a href=\"http://twitter.com/download/iphone\" rel=\"nofollow\">Twitter for iPhone</a>',\n",
       " u'text': u\"RT @JKCorden: People making jokes about @KimKardashian tonight would do well to remember that she's a mother,a daughter,a wife,a friend.Be\\u2026\",\n",
       " u'timestamp_ms': u'1475709299169',\n",
       " u'truncated': False,\n",
       " u'user': {u'contributors_enabled': False,\n",
       "  u'created_at': u'Wed Feb 24 20:13:16 +0000 2010',\n",
       "  u'default_profile': False,\n",
       "  u'default_profile_image': False,\n",
       "  u'description': u'\\u2661 23/4/13 best day of my life met Justin thanks to make a wish \\u2661 Justin followed me back 1/5/16 \\u2661Seventeen \\u2661 belieber',\n",
       "  u'favourites_count': 15465,\n",
       "  u'follow_request_sent': None,\n",
       "  u'followers_count': 1564,\n",
       "  u'following': None,\n",
       "  u'friends_count': 3287,\n",
       "  u'geo_enabled': True,\n",
       "  u'id': 117182316,\n",
       "  u'id_str': u'117182316',\n",
       "  u'is_translator': False,\n",
       "  u'lang': u'en',\n",
       "  u'listed_count': 10,\n",
       "  u'location': u'North West, England',\n",
       "  u'name': u'Laura',\n",
       "  u'notifications': None,\n",
       "  u'profile_background_color': u'F0F0F0',\n",
       "  u'profile_background_image_url': u'http://pbs.twimg.com/profile_background_images/627558213337128960/snURwpO0.png',\n",
       "  u'profile_background_image_url_https': u'https://pbs.twimg.com/profile_background_images/627558213337128960/snURwpO0.png',\n",
       "  u'profile_background_tile': True,\n",
       "  u'profile_banner_url': u'https://pbs.twimg.com/profile_banners/117182316/1474550789',\n",
       "  u'profile_image_url': u'http://pbs.twimg.com/profile_images/780436077811294208/FfOR0i1z_normal.jpg',\n",
       "  u'profile_image_url_https': u'https://pbs.twimg.com/profile_images/780436077811294208/FfOR0i1z_normal.jpg',\n",
       "  u'profile_link_color': u'981CEB',\n",
       "  u'profile_sidebar_border_color': u'FFFFFF',\n",
       "  u'profile_sidebar_fill_color': u'D8D8D8',\n",
       "  u'profile_text_color': u'180018',\n",
       "  u'profile_use_background_image': True,\n",
       "  u'protected': False,\n",
       "  u'screen_name': u'LauraGibsonxxx',\n",
       "  u'statuses_count': 31720,\n",
       "  u'time_zone': u'Amsterdam',\n",
       "  u'url': None,\n",
       "  u'utc_offset': 7200,\n",
       "  u'verified': False}}"
      ]
     },
     "execution_count": 12,
     "metadata": {},
     "output_type": "execute_result"
    }
   ],
   "source": [
    "print 'here is info from the first tweet:'\n",
    "tweets_data[0]"
   ]
  },
  {
   "cell_type": "code",
   "execution_count": 97,
   "metadata": {
    "collapsed": false
   },
   "outputs": [],
   "source": [
    "# Load relevant info into a pandas data frame\n",
    "\n",
    "tweets = pd.DataFrame()\n",
    "\n",
    "# Text of the tweet\n",
    "tweets['text'] = map(lambda tweet: tweet['text'], tweets_data)\n",
    "\n",
    "# Whether or not the tweet was retweeted\n",
    "tweets['retweeted'] = map(lambda tweet: tweet['retweeted'], tweets_data)\n",
    "\n",
    "# Username of person who tweeted it\n",
    "tweets['username'] = map(lambda tweet: tweet['user']['screen_name'], tweets_data)\n",
    "\n",
    "# Whether the account is verified\n",
    "tweets['verified'] = map(lambda tweet: tweet['user']['verified'], tweets_data)\n",
    "\n",
    "# List of hashtags used\n",
    "tweets['hashtags'] = map(lambda tweet: tweet['entities']['hashtags'], tweets_data)\n",
    "\n",
    "# List of users mentioned in the tweet\n",
    "tweets['user_mentions'] = map(lambda tweet: [tweet['entities']['user_mentions'][i]['screen_name'] for i in N.arange(len(tweet['entities']['user_mentions']))], tweets_data)\n",
    "\n",
    "# Whether the tweet has been favorited\n",
    "tweets['favorited'] = map(lambda tweet: tweet['favorited'], tweets_data)\n",
    "\n",
    "# Time stamp of tweet\n",
    "tweets['timestamp'] = map(lambda tweet: tweet['created_at'], tweets_data)\n",
    "\n",
    "# Source of tweet (iPhone, Android, etc)\n",
    "tweets['source'] = map(lambda tweet: tweet['source'], tweets_data)\n",
    "\n",
    "# Language\n",
    "tweets['language'] = map(lambda tweet: tweet['lang'], tweets_data)"
   ]
  },
  {
   "cell_type": "code",
   "execution_count": 98,
   "metadata": {
    "collapsed": false
   },
   "outputs": [],
   "source": [
    "# Do some editing of the tweet text:\n",
    "\n",
    "# Make all letters lowercase\n",
    "tweets['text'] = tweets['text'].str.lower()\n",
    "\n",
    "# Remove all URLs\n",
    "tweets['text'] = tweets['text'].str.replace('https?:.*', '')\n",
    "\n",
    "# Strip all whitespace\n",
    "tweets['text'] = tweets['text'].str.strip()\n"
   ]
  },
  {
   "cell_type": "code",
   "execution_count": 99,
   "metadata": {
    "collapsed": false
   },
   "outputs": [
    {
     "name": "stdout",
     "output_type": "stream",
     "text": [
      "Percent of tweets in the dataset that are directed at Kim K: 0.923834537098\n"
     ]
    }
   ],
   "source": [
    "print 'Percent of tweets in the dataset that are directed at Kim K:', N.sum(['KimKardashian' in list for list in tweets['user_mentions']]) / 1523."
   ]
  },
  {
   "cell_type": "code",
   "execution_count": 100,
   "metadata": {
    "collapsed": false
   },
   "outputs": [],
   "source": [
    "# Load in some lists of positive words, negative words, curse words, etc. These might be useful for identifying trolling tweets\n",
    "\n",
    "negative_words = N.loadtxt('data/opinion-lexicon-English/negative-words.txt', dtype=str, comments=';').tolist()\n",
    "positive_words = N.loadtxt('data/opinion-lexicon-English/positive-words.txt', dtype=str, comments=';').tolist()\n",
    "curse_words1 = N.loadtxt('data/opinion-lexicon-English/curse-words.txt', dtype=str, delimiter='\\n').tolist()\n",
    "curse_words2 = N.loadtxt('data/opinion-lexicon-English/swearWords.txt', dtype=str, delimiter='\\n').tolist()\n",
    "bad_words = N.loadtxt('data/opinion-lexicon-English/really_bad_words.txt', dtype =str, delimiter='\\n').tolist()"
   ]
  },
  {
   "cell_type": "code",
   "execution_count": 101,
   "metadata": {
    "collapsed": false
   },
   "outputs": [
    {
     "name": "stdout",
     "output_type": "stream",
     "text": [
      "number of tweets containing the word b****: 63\n",
      "number of tweets containing the word w****: 14\n",
      "number of tweets containing the word c***: 1\n",
      "number of tweets containing the word f***: 50\n",
      "number of tweets containing the word s***: 5\n",
      "number of tweets containing the word a******: 7\n",
      "number of tweets containing the word n*****: 6\n",
      "number of tweets containing the word f*****: 0\n"
     ]
    }
   ],
   "source": [
    "total_pattern = ''\n",
    "for pattern in bad_words:\n",
    "    first_char = pattern[0]\n",
    "    num_stars = len(pattern)-1\n",
    "    newstring = first_char + '*'*num_stars\n",
    "    print 'number of tweets containing the word %s:'%newstring, \\\n",
    "    tweets['text'].str.contains(pattern).sum()\n",
    "    total_pattern = total_pattern + pattern + '|'"
   ]
  },
  {
   "cell_type": "code",
   "execution_count": 102,
   "metadata": {
    "collapsed": false
   },
   "outputs": [
    {
     "name": "stdout",
     "output_type": "stream",
     "text": [
      "Total number of tweets using the 8 bad words 122\n"
     ]
    }
   ],
   "source": [
    "sep = '|'\n",
    "total_pattern = sep.join(bad_words)\n",
    "print 'Total number of tweets using the', len(bad_words), 'bad words', N.sum(tweets['text'].str.contains(total_pattern))"
   ]
  },
  {
   "cell_type": "code",
   "execution_count": 103,
   "metadata": {
    "collapsed": false
   },
   "outputs": [
    {
     "name": "stdout",
     "output_type": "stream",
     "text": [
      "These are definitely trolls in this dataset: [u'DashtoKrap' u'GameChanger6371' u'InfamousSOB247' u'KIMisisSTUPID']\n"
     ]
    }
   ],
   "source": [
    "#one option is to make a list of bad users and label all of their tweets as trolling\n",
    "bad_users = N.unique(tweets['username'][tweets['text'].str.contains(sep.join([bad_words[2], bad_words[6]]))])\n",
    "print 'These are definitely trolls in this dataset:', bad_users"
   ]
  },
  {
   "cell_type": "code",
   "execution_count": 104,
   "metadata": {
    "collapsed": false
   },
   "outputs": [
    {
     "data": {
      "text/plain": [
       "u'@kimkardashian is too stupid to learn her lesson from robbery - watch her turn it to an episode of kuwtk -'"
      ]
     },
     "execution_count": 104,
     "metadata": {},
     "output_type": "execute_result"
    }
   ],
   "source": [
    "#is this one a troll?\n",
    "tweets.loc[19, 'text']"
   ]
  },
  {
   "cell_type": "code",
   "execution_count": 105,
   "metadata": {
    "collapsed": true
   },
   "outputs": [],
   "source": [
    "# Make a new column classifying all tweets as trolling or not\n",
    "# Initialize as false. We will go through and label the trolling ones afterward.\n",
    "tweets['is_troll'] = False"
   ]
  },
  {
   "cell_type": "code",
   "execution_count": 106,
   "metadata": {
    "collapsed": false
   },
   "outputs": [],
   "source": [
    "# Mark these users' tweets as trolling\n",
    "for user in bad_users:\n",
    "    tweets.loc[tweets['username']==user, 'is_troll'] = True    "
   ]
  },
  {
   "cell_type": "code",
   "execution_count": 107,
   "metadata": {
    "collapsed": false
   },
   "outputs": [
    {
     "name": "stdout",
     "output_type": "stream",
     "text": [
      "Between these 4 users there are 254 tweets in the dataset\n"
     ]
    }
   ],
   "source": [
    "print 'Between these', len(bad_users), 'users there are', N.sum(tweets['is_troll']==True), 'tweets in the dataset'"
   ]
  },
  {
   "cell_type": "code",
   "execution_count": 110,
   "metadata": {
    "collapsed": false
   },
   "outputs": [
    {
     "name": "stdout",
     "output_type": "stream",
     "text": [
      "Number of tweets to classify manually: 76\n"
     ]
    }
   ],
   "source": [
    "# go through any tweets containing swear words\n",
    "cwstring = sep.join(curse_words2)\n",
    "\n",
    "# Get a list of tweets of non-trolls that contain swear words\n",
    "# Also require the tweets are in English\n",
    "# there are a bunch of tweets with the word petition which are being classified as trolling because they contain \"tit\"... exclude those\n",
    "possible_trolls = tweets.loc[(tweets['is_troll']==False) & (tweets['text'].str.contains(cwstring)) & (tweets['text'].str.contains('petition')==False) & (tweets['language'] == 'en'), 'text']\n",
    "print 'Number of tweets to classify manually:', len(possible_trolls)"
   ]
  },
  {
   "cell_type": "code",
   "execution_count": 111,
   "metadata": {
    "collapsed": false
   },
   "outputs": [
    {
     "data": {
      "text/plain": [
       "text             rt @jibzonlinemmg: jibz scrilla talks about @k...\n",
       "retweeted                                                    False\n",
       "username                                                 babyy_xoo\n",
       "verified                                                     False\n",
       "hashtags         [{u'indices': [87, 90], u'text': u'np'}, {u'in...\n",
       "user_mentions           [JibzOnlineMMG, KimKardashian, NICKIMINAJ]\n",
       "favorited                                                    False\n",
       "timestamp                           Wed Oct 05 23:18:47 +0000 2016\n",
       "source           <a href=\"http://twitter.com/download/android\" ...\n",
       "language                                                        en\n",
       "is_troll                                                     False\n",
       "Name: 50, dtype: object"
      ]
     },
     "execution_count": 111,
     "metadata": {},
     "output_type": "execute_result"
    }
   ],
   "source": [
    "tweets.iloc[possible_trolls.index[0]]\n"
   ]
  },
  {
   "cell_type": "code",
   "execution_count": 117,
   "metadata": {
    "collapsed": false
   },
   "outputs": [
    {
     "data": {
      "text/plain": [
       "False"
      ]
     },
     "execution_count": 117,
     "metadata": {},
     "output_type": "execute_result"
    }
   ],
   "source": [
    "tweets.loc[0, 'is_troll']"
   ]
  },
  {
   "cell_type": "code",
   "execution_count": 118,
   "metadata": {
    "collapsed": false
   },
   "outputs": [],
   "source": [
    "# Go through the possible trolls and classify tweets as trolling (1) or not (0)\n",
    "for i in N.arange(len(possible_trolls)):\n",
    "    print possible_trolls.iloc[i]\n",
    "    s = input('troll? [0/1]')\n",
    "    if (N.int(s)==1):\n",
    "        tweets.loc[possible_trolls.index[i], 'is_troll'] = True\n",
    "    clear_output()\n",
    "    \n",
    "    \n",
    "\n"
   ]
  },
  {
   "cell_type": "code",
   "execution_count": 120,
   "metadata": {
    "collapsed": false
   },
   "outputs": [
    {
     "name": "stdout",
     "output_type": "stream",
     "text": [
      "Total number of trolling tweets: 274\n"
     ]
    }
   ],
   "source": [
    "print 'Total number of trolling tweets:', N.sum(tweets['is_troll']==True)"
   ]
  },
  {
   "cell_type": "code",
   "execution_count": 122,
   "metadata": {
    "collapsed": true
   },
   "outputs": [],
   "source": [
    "# Save the 'is_troll' column so we can use it for our classification algorithm\n",
    "\n",
    "N.save('/Users/nuala/Documents/Research/Code/repos/twitter-trolls/data/training_set_classification', tweets['is_troll'])"
   ]
  },
  {
   "cell_type": "code",
   "execution_count": null,
   "metadata": {
    "collapsed": true
   },
   "outputs": [],
   "source": []
  }
 ],
 "metadata": {
  "kernelspec": {
   "display_name": "Python 2",
   "language": "python",
   "name": "python2"
  },
  "language_info": {
   "codemirror_mode": {
    "name": "ipython",
    "version": 2
   },
   "file_extension": ".py",
   "mimetype": "text/x-python",
   "name": "python",
   "nbconvert_exporter": "python",
   "pygments_lexer": "ipython2",
   "version": "2.7.12"
  }
 },
 "nbformat": 4,
 "nbformat_minor": 0
}
