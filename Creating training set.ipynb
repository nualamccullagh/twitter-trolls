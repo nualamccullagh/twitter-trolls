{
 "cells": [
  {
   "cell_type": "code",
   "execution_count": 6,
   "metadata": {
    "collapsed": false
   },
   "outputs": [],
   "source": [
    "import numpy as N\n",
    "import pandas as pd\n",
    "import json\n",
    "import matplotlib.pyplot as plt\n",
    "plt.style.use('nuala')"
   ]
  },
  {
   "cell_type": "code",
   "execution_count": 9,
   "metadata": {
    "collapsed": false
   },
   "outputs": [],
   "source": [
    "filename='/Users/nuala/Documents/Twitter troll data/stream__thelindywest___Lesdoggg___KimKardashian.json'"
   ]
  },
  {
   "cell_type": "code",
   "execution_count": 10,
   "metadata": {
    "collapsed": false
   },
   "outputs": [],
   "source": [
    "\n",
    "tweets_data = []\n",
    "tweets_file = open(filename, \"r\")\n",
    "for line in tweets_file:\n",
    "    try:\n",
    "        tweet = json.loads(line)\n",
    "        tweets_data.append(tweet)\n",
    "    except:\n",
    "        continue"
   ]
  },
  {
   "cell_type": "code",
   "execution_count": 216,
   "metadata": {
    "collapsed": false
   },
   "outputs": [
    {
     "data": {
      "text/plain": [
       "[{u'id': 3339467173,\n",
       "  u'id_str': u'3339467173',\n",
       "  u'indices': [3, 19],\n",
       "  u'name': u'KimDaFatPigWhaleHo80',\n",
       "  u'screen_name': u'PigDickSucker80'},\n",
       " {u'id': 25365536,\n",
       "  u'id_str': u'25365536',\n",
       "  u'indices': [21, 35],\n",
       "  u'name': u'Kim Kardashian West',\n",
       "  u'screen_name': u'KimKardashian'},\n",
       " {u'id': 30482336,\n",
       "  u'id_str': u'30482336',\n",
       "  u'indices': [57, 71],\n",
       "  u'name': u'Goatwhore',\n",
       "  u'screen_name': u'GoatwhoreNOLA'},\n",
       " {u'id': 3024596660,\n",
       "  u'id_str': u'3024596660',\n",
       "  u'indices': [95, 108],\n",
       "  u'name': u'Limitless',\n",
       "  u'screen_name': u'LimitlessCBS'}]"
      ]
     },
     "execution_count": 216,
     "metadata": {},
     "output_type": "execute_result"
    }
   ],
   "source": [
    "tweets_data[33]['entities']['user_mentions']"
   ]
  },
  {
   "cell_type": "code",
   "execution_count": 238,
   "metadata": {
    "collapsed": false
   },
   "outputs": [
    {
     "data": {
      "text/plain": [
       "[{u'id': 215952307,\n",
       "  u'id_str': u'215952307',\n",
       "  u'indices': [3, 12],\n",
       "  u'name': u'James Corden',\n",
       "  u'screen_name': u'JKCorden'},\n",
       " {u'id': 25365536,\n",
       "  u'id_str': u'25365536',\n",
       "  u'indices': [40, 54],\n",
       "  u'name': u'Kim Kardashian West',\n",
       "  u'screen_name': u'KimKardashian'}]"
      ]
     },
     "execution_count": 238,
     "metadata": {},
     "output_type": "execute_result"
    }
   ],
   "source": [
    "tweets_data[0]['entities']['user_mentions']"
   ]
  },
  {
   "cell_type": "code",
   "execution_count": 241,
   "metadata": {
    "collapsed": false
   },
   "outputs": [],
   "source": [
    "tweets = pd.DataFrame()\n",
    "tweets['text'] = map(lambda tweet: tweet['text'], tweets_data)\n",
    "tweets['retweeted'] = map(lambda tweet: tweet['retweeted'], tweets_data)\n",
    "tweets['username'] = map(lambda tweet: tweet['user']['screen_name'], tweets_data)\n",
    "tweets['verified'] = map(lambda tweet: tweet['user']['verified'], tweets_data)\n",
    "tweets['hashtags'] = map(lambda tweet: tweet['entities']['hashtags'], tweets_data)\n",
    "tweets['user_mentions'] = map(lambda tweet: [tweet['entities']['user_mentions'][i]['screen_name'] for i in N.arange(len(tweet['entities']['user_mentions']))], tweets_data)\n",
    "\n",
    "tweets['favorited'] = map(lambda tweet: tweet['favorited'], tweets_data)\n",
    "tweets['timestamp'] = map(lambda tweet: tweet['created_at'], tweets_data)\n",
    "tweets['source'] = map(lambda tweet: tweet['source'], tweets_data)"
   ]
  },
  {
   "cell_type": "code",
   "execution_count": 242,
   "metadata": {
    "collapsed": false
   },
   "outputs": [],
   "source": [
    "tweets['text']=tweets['text'].str.lower()"
   ]
  },
  {
   "cell_type": "code",
   "execution_count": 301,
   "metadata": {
    "collapsed": false
   },
   "outputs": [
    {
     "data": {
      "text/plain": [
       "1523"
      ]
     },
     "execution_count": 301,
     "metadata": {},
     "output_type": "execute_result"
    }
   ],
   "source": [
    "len(tweets_data)"
   ]
  },
  {
   "cell_type": "code",
   "execution_count": 243,
   "metadata": {
    "collapsed": false
   },
   "outputs": [
    {
     "name": "stdout",
     "output_type": "stream",
     "text": [
      "number of tweets containing the word bitch: 71\n",
      "number of tweets containing the word whore: 14\n",
      "number of tweets containing the word cunt: 1\n",
      "number of tweets containing the word fuck: 54\n",
      "number of tweets containing the word slut: 6\n",
      "number of tweets containing the word asshole: 8\n",
      "number of tweets containing the word nigger: 7\n"
     ]
    }
   ],
   "source": [
    "bad_words = ['bitch', 'whore', 'cunt', 'fuck', 'slut', 'asshole', 'nigger']\n",
    "\n",
    "for pattern in bad_words:\n",
    "    print 'number of tweets containing the word %s:'%pattern, N.sum(tweets['text'].str.contains(pattern))"
   ]
  },
  {
   "cell_type": "code",
   "execution_count": 244,
   "metadata": {
    "collapsed": false
   },
   "outputs": [
    {
     "data": {
      "text/plain": [
       "134"
      ]
     },
     "execution_count": 244,
     "metadata": {},
     "output_type": "execute_result"
    }
   ],
   "source": [
    "pattern = 'bitch|whore|cunt|fuck|slut|asshole|nigger'\n",
    "N.sum(tweets['text'].str.contains(pattern))"
   ]
  },
  {
   "cell_type": "code",
   "execution_count": 245,
   "metadata": {
    "collapsed": false
   },
   "outputs": [],
   "source": [
    "#one option is to make a list of bad users and label all of their tweets as trolling\n",
    "bad_users = N.unique(tweets['username'][tweets['text'].str.contains('nigger|cunt')])"
   ]
  },
  {
   "cell_type": "code",
   "execution_count": 246,
   "metadata": {
    "collapsed": false
   },
   "outputs": [
    {
     "data": {
      "text/plain": [
       "u'@kimkardashian is too stupid to learn her lesson from robbery - watch her turn it to an episode of kuwtk -'"
      ]
     },
     "execution_count": 246,
     "metadata": {},
     "output_type": "execute_result"
    }
   ],
   "source": [
    "#is this one a troll?\n",
    "tweets['text'][19]"
   ]
  },
  {
   "cell_type": "code",
   "execution_count": 247,
   "metadata": {
    "collapsed": true
   },
   "outputs": [],
   "source": [
    "tweets['is_troll'] = False"
   ]
  },
  {
   "cell_type": "code",
   "execution_count": 302,
   "metadata": {
    "collapsed": false
   },
   "outputs": [
    {
     "name": "stderr",
     "output_type": "stream",
     "text": [
      "/anaconda/lib/python2.7/site-packages/ipykernel/__main__.py:2: SettingWithCopyWarning: \n",
      "A value is trying to be set on a copy of a slice from a DataFrame\n",
      "\n",
      "See the caveats in the documentation: http://pandas.pydata.org/pandas-docs/stable/indexing.html#indexing-view-versus-copy\n",
      "  from ipykernel import kernelapp as app\n"
     ]
    }
   ],
   "source": [
    "for user in bad_users:\n",
    "    tweets['is_troll'][tweets['username']==user] = True\n",
    "    #tweets['is_troll'][map(lambda x: N.any(N.array(x) == user), N.array(tweets['user_mentions']))] = True\n",
    "    \n",
    "    "
   ]
  },
  {
   "cell_type": "code",
   "execution_count": 303,
   "metadata": {
    "collapsed": false
   },
   "outputs": [
    {
     "data": {
      "text/plain": [
       "254"
      ]
     },
     "execution_count": 303,
     "metadata": {},
     "output_type": "execute_result"
    }
   ],
   "source": [
    "N.sum(tweets['is_troll']==True)"
   ]
  },
  {
   "cell_type": "code",
   "execution_count": 214,
   "metadata": {
    "collapsed": false
   },
   "outputs": [
    {
     "name": "stdout",
     "output_type": "stream",
     "text": [
      "number of tweets containing the word bitch: 4\n",
      "number of tweets containing the word whore: 4\n",
      "number of tweets containing the word cunt: 0\n",
      "number of tweets containing the word fuck: 16\n",
      "number of tweets containing the word slut: 3\n",
      "number of tweets containing the word asshole: 0\n",
      "number of tweets containing the word nigger: 0\n"
     ]
    }
   ],
   "source": [
    "bad_words = ['bitch', 'whore', 'cunt', 'fuck', 'slut', 'asshole', 'nigger']\n",
    "df = tweets['text'][tweets['is_troll'] == False]\n",
    "for pattern in bad_words:\n",
    "    print 'number of tweets containing the word %s:'%pattern, N.sum(df.str.contains(pattern))"
   ]
  },
  {
   "cell_type": "code",
   "execution_count": 304,
   "metadata": {
    "collapsed": false
   },
   "outputs": [
    {
     "data": {
      "text/plain": [
       "467     @kimkardashian 🏄📢kimisaripoff \\nhttps://t.co...\n",
       "475     @kimkardashian ☀📢kimisaripoff\\nhttps://t.co/e...\n",
       "488     @kimkardashian 😇📢kimisaripoff👎 \\nhttps://t....\n",
       "512     @kimkardashian 💁📢imaripoffartist 🌚📢imacona...\n",
       "528     rt @dashtokrap: @kimkardashian 💁📢imaripoffar...\n",
       "532     rt @dashtokrap: @kimkardashian 😇📢kimisaripof...\n",
       "534     rt @dashtokrap: @kimkardashian ☀📢kimisaripoff...\n",
       "536     rt @dashtokrap: @kimkardashian 🏄📢kimisaripof...\n",
       "542     rt @badblackrobots: @kimkardashian frankly, th...\n",
       "547     rt @smallbrains77kw: @kimkardashian #bigfan #n...\n",
       "548     rt @smallbrains77kw: @kimkardashian @kourtneyk...\n",
       "552     rt @smallbrains77kw: @kimkardashian #iamgod #b...\n",
       "553     rt @aaloser6371: @kimkardashian @elainelizette...\n",
       "554     rt @blacksareevil: @kimkardashian @realdonaldt...\n",
       "555     rt @retard102180: @kimkardashian yeah kim, god...\n",
       "556     rt @blacksareevil: @kimkardashian #iamgod #tru...\n",
       "558     rt @kimwrong102180: @kimkardashian #iamgod #tr...\n",
       "562     rt @knight6371: @kimkardashian #stupidshow #ia...\n",
       "564     rt @aaloser6371: where does isis get its toyot...\n",
       "566     rt @justbitch102180: @kimkardashian #iwillsuff...\n",
       "567     rt @retard102180: @kimkardashian #theprophecy ...\n",
       "570     rt @badblackrobots: @bpeachyy @kimkardashian #...\n",
       "571     rt @badblackrobots: @xmanelmg @kaptchrmedia @c...\n",
       "572     rt @badblackrobots: @kimkardashian #demonfetus...\n",
       "576     rt @burnthetraitors: @kimkardashian @brandijet...\n",
       "580     rt @aaloser6371: @kimkardashian @ebonibarnes #...\n",
       "582     rt @badblackrobots: @kimkardashian @patmcgrath...\n",
       "594     rt @smallbrains77kw: @kourtneydaqueen @kimkard...\n",
       "598     rt @pigdicksucker80: @kimkardashian #iamgod #b...\n",
       "600     rt @retard102180: @kimkardashian #kimsboobssag...\n",
       "                              ...                        \n",
       "988     rt @godluvskourtney: @kourtneykardash @kimkard...\n",
       "989     rt @kimwrong102180: @billcosby #bbkingsucked #...\n",
       "990     rt @kimisdumbo80: @evalongoria @kimkardashian ...\n",
       "1006    rt @gayfishcoinye33: can usay #blackbox @kimka...\n",
       "1008    rt @gayfishcoinye33: #iamchrist didn't want a ...\n",
       "1010    rt @koolkimkardash7: in #myname #idenounce @ka...\n",
       "1012    rt @richardwknight7: #iamgod #mybitchkimk #iam...\n",
       "1013    rt @richardwknight7: #iamgad #iamgod #iamsatan...\n",
       "1022          @richardwknight7 @kimkardashian divine☀🎸🎶\n",
       "1064    @godluvskourtney @kourtneykardash @kimkardashi...\n",
       "1067    rt @dashtokrap: @godluvskourtney @kourtneykard...\n",
       "1088    rt @knight6371: @kimkardashian #uareselfish #u...\n",
       "1089    @knight6371 @kimkardashian 🏄📢kimispurehellto...\n",
       "1090    rt @knight6371: @kimkardashian #icareabouthawa...\n",
       "1091    rt @knight6371: @kimkardashian @vidaguerra @ev...\n",
       "1092    rt @dashtokrap: @knight6371 @kimkardashian 🏄�...\n",
       "1113    rt @pigdicksucker80: @kimkardashian @yolancris...\n",
       "1119    rt @blacksareevil: @kimkardashian @knight6371 ...\n",
       "1120    rt @retard102180: @kimkardashian #readmyteeth ...\n",
       "1134    rt @blacksareevil: @kimkardashian @jonathanche...\n",
       "1137    rt @blacksareevil: @kimkardashian @jonathanche...\n",
       "1138    rt @blacksareevil: @kimkardashian @jonathanche...\n",
       "1139    rt @blacksareevil: @kimkardashian @jonathanche...\n",
       "1141    rt @blacksareevil: @kimkardashian @jonathanche...\n",
       "1143    rt @blacksareevil: @kimkardashian @jonathanche...\n",
       "1148    rt @smallbrains77kw: @kimkardashian #nowthatsa...\n",
       "1150    rt @knight6371: @kimkardashian @firegod6371 #i...\n",
       "1152    rt @smallbrains77kw: @kimkardashian #godiscanc...\n",
       "1154    rt @smallbrains77kw: @kimkardashian @kanyewest...\n",
       "1156    rt @smallbrains77kw: @kimkardashian #readmytee...\n",
       "Name: text, dtype: object"
      ]
     },
     "execution_count": 304,
     "metadata": {},
     "output_type": "execute_result"
    }
   ],
   "source": [
    "tweets['text'][tweets['username'] == bad_users[0]]"
   ]
  },
  {
   "cell_type": "code",
   "execution_count": 306,
   "metadata": {
    "collapsed": false
   },
   "outputs": [
    {
     "data": {
      "text/plain": [
       "u'rt @knight6371: @kimkardashian @firegod6371 #iamgod #readmyteeth #whatanuglypieceofkrap #imperfectbitch @kanyewest #deaddog77 #dondawestisw\\u2026'"
      ]
     },
     "execution_count": 306,
     "metadata": {},
     "output_type": "execute_result"
    }
   ],
   "source": [
    "tweets['text'][1150]"
   ]
  },
  {
   "cell_type": "code",
   "execution_count": 307,
   "metadata": {
    "collapsed": false
   },
   "outputs": [
    {
     "data": {
      "text/plain": [
       "u'DashtoKrap'"
      ]
     },
     "execution_count": 307,
     "metadata": {},
     "output_type": "execute_result"
    }
   ],
   "source": [
    "bad_users[0]"
   ]
  },
  {
   "cell_type": "code",
   "execution_count": null,
   "metadata": {
    "collapsed": true
   },
   "outputs": [],
   "source": []
  }
 ],
 "metadata": {
  "kernelspec": {
   "display_name": "Python 2",
   "language": "python",
   "name": "python2"
  },
  "language_info": {
   "codemirror_mode": {
    "name": "ipython",
    "version": 2
   },
   "file_extension": ".py",
   "mimetype": "text/x-python",
   "name": "python",
   "nbconvert_exporter": "python",
   "pygments_lexer": "ipython2",
   "version": "2.7.11"
  }
 },
 "nbformat": 4,
 "nbformat_minor": 0
}
